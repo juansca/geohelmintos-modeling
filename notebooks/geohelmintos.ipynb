{
 "cells": [
  {
   "cell_type": "code",
   "execution_count": 7,
   "metadata": {},
   "outputs": [],
   "source": [
    "import pandas as pd\n",
    "import numpy as np"
   ]
  },
  {
   "cell_type": "code",
   "execution_count": 26,
   "metadata": {},
   "outputs": [],
   "source": [
    "selected_columns = ['Indv. CODE', 'HOUSE_n_or', 'House_n_gl', 'G_H00K', \n",
    "                    , 'sum_G_HOOK', 'num_indiv', \n",
    "                    'Electricit', 'Radio', 'Domestic animals', 'Toilet', \n",
    "                    'Drinking w', 'Drinking_1', 'Bath', 'Water cook', \n",
    "                    'Hand washi', 'NDVI', 'ri_bfd', 'ri_orcd_n', 'BSI_n', \n",
    "                    'MSI_n', 'NDBI_n', 'BLDFIE_n', 'BDRIC_n', 'CECSOL_n', \n",
    "                    'Clyp_n', 'Crfvol_n', 'Ocstha_n', 'SLTppt_n', 'Phihox_n', 'Phikcl_n']"
   ]
  },
  {
   "cell_type": "code",
   "execution_count": 12,
   "metadata": {},
   "outputs": [],
   "source": [
    "base_path = '../data/geohelmints_base.csv'"
   ]
  },
  {
   "cell_type": "code",
   "execution_count": 5,
   "metadata": {},
   "outputs": [],
   "source": [
    "column_types = {\n",
    "    'GENDER': 'category', \n",
    "    'AGE': 'float64', \n",
    "    're_G_trich': 'category', \n",
    "    're_G_Asc': 'category', \n",
    "    're_G_Hook': 'category', \n",
    "    're_H_Enter': 'category',\n",
    "    're_H_Schis': 'category', \n",
    "    're_H_Hym_n': 'category', \n",
    "    're_H_Hym_d': 'category', \n",
    "    'sum_G_Stro': 'float64', \n",
    "    'sum_G_Tric': 'float64',\n",
    "    'sum_G_Asc': 'float64', \n",
    "    'sum_G_HOOK': 'float64', \n",
    "    'sum_H_Ente': 'float64', \n",
    "    'sum_H_Schi': 'float64', \n",
    "    'sum_H_Hym_': 'float64',\n",
    "    'sum_H_Hy_1': 'float64', \n",
    "    'si_G_Stron': 'category', \n",
    "    'si_G_Trich': 'category', \n",
    "    'si_G_Asc': 'category', \n",
    "    'si_G_Hook': 'category',\n",
    "    'si_H_Enter': 'category', \n",
    "    'si_H_schis': 'category', \n",
    "    'si_H_hym_n': 'category', \n",
    "    'si_H_hym_d': 'category', \n",
    "    'riq_Geoh': 'float64',\n",
    "    'riq_helm': 'float64', \n",
    "    'p_G_Strong': 'float64', \n",
    "    'p_G_Trich': 'float64', \n",
    "    'p_G_Asc': 'float64', \n",
    "    'p_G_HOOK': 'float64',\n",
    "    'p_H_Enter': 'float64', \n",
    "    'p_H_Schis': 'float64', \n",
    "    'p_H_hym_n': 'float64', \n",
    "    'p_H_hym_d': 'float64', \n",
    "    'sh_geohel': 'float64',\n",
    "    'sh_helm': 'float64', \n",
    "    'geohel_dom': 'category', \n",
    "    'Re_hous_nu': 'float64', \n",
    "    'num_indiv': 'float64', \n",
    "    're_G_stron': 'category',\n",
    "       'ind_tip1_G': 'category', \n",
    "    'ind_tip1_H': 'category', \n",
    "    'p_tip1_G': 'float64', \n",
    "    'p_tip1_H': 'float64', \n",
    "    'ind_inf_Ge': 'float64',\n",
    "    'ind_inf_He': 'float64', \n",
    "    'n_Geo_mean': 'float64', \n",
    "    'n_Hel_mean': 'float64', \n",
    "    'HOOKWORM_h': 'float64', \n",
    "    'HGH_x_50': 'float64',\n",
    "    'r_huev_hoo': 'float64', \n",
    "    'Roof': 'category', \n",
    "    'Floor': 'category', \n",
    "    'Wall': 'category', \n",
    "    'Electricit': 'category', \n",
    "    'Radio': 'category',\n",
    "    'Domestic a': 'category', \n",
    "    'Toilet': 'category', \n",
    "    'Drinking w': 'category', \n",
    "    'Drinking_1': 'category', \n",
    "    'Bath': 'category',\n",
    "    'Water cook': 'category', \n",
    "    'Hand washi': 'category', \n",
    "    'Miembros_': 'float64', \n",
    "    'n_geo_stde': 'float64', \n",
    "    'n_Hel_stde': 'float64',\n",
    "    're_hgh50': 'float64', \n",
    "    'sum_hgh50': 'float64', \n",
    "    'Prev_FO': 'float64', \n",
    "    'Prev_piel': 'float64', \n",
    "    'riego_ingr': 'float64',\n",
    "    'riesgo_ele': 'category', \n",
    "    'Riesgo_wat': 'category', \n",
    "    'rieg_w2': 'category', \n",
    "    'riesg_w_2': 'category', \n",
    "    'riesg_w_3': 'category',\n",
    "    'Ri_ingre': 'float64', \n",
    "    'NDVI': 'float64', \n",
    "    'Prec': 'float64', \n",
    "    'ri_bfd': 'float64', \n",
    "    'ri_orcd_n': 'float64', \n",
    "    'Ri_prec': 'float64',\n",
    "    'Ri_NumInd': 'float64', \n",
    "    'BSI_n': 'float64', \n",
    "    'MSI_n': 'float64', \n",
    "    'NDBI_n': 'float64', \n",
    "    'BLDFIE_n': 'float64', \n",
    "    'BDRIC_n': 'float64',\n",
    "    'CECSOL_n': 'float64', \n",
    "    'Clyp_n': 'float64', \n",
    "    'Crfvol_n': 'float64', \n",
    "    'Ocstha_n': 'float64', \n",
    "    'SLTppt_n': 'float64', \n",
    "    'Phihox_n': 'float64',\n",
    "    'Phikcl_n': 'float64', \n",
    "    'Temp_n': 'float64'\n",
    "}"
   ]
  },
  {
   "cell_type": "code",
   "execution_count": 18,
   "metadata": {},
   "outputs": [],
   "source": [
    "raw_df = pd.read_csv(base_path, dtype=column_types, header=0, na_values=[' ', '*', ''])"
   ]
  },
  {
   "cell_type": "markdown",
   "metadata": {},
   "source": [
    "#### Sacamos las ultimas dos filas porque no van "
   ]
  },
  {
   "cell_type": "code",
   "execution_count": 52,
   "metadata": {},
   "outputs": [],
   "source": [
    "sin_ultimas_dos = len(raw_df) - 3\n",
    "filtered_base = raw_df.loc[:sin_ultimas_dos, selected_columns]"
   ]
  },
  {
   "cell_type": "markdown",
   "metadata": {},
   "source": [
    "### Creamos Nuevas Features "
   ]
  },
  {
   "cell_type": "markdown",
   "metadata": {},
   "source": [
    "#### Creamos las aldeas "
   ]
  },
  {
   "cell_type": "code",
   "execution_count": 59,
   "metadata": {},
   "outputs": [],
   "source": [
    "# La aldea es representada por las primeras lestras del codigo del individuo\n",
    "filtered_base['aldea'] = filtered_base['Indv. CODE'].apply(lambda x: x[:2])"
   ]
  },
  {
   "cell_type": "markdown",
   "metadata": {},
   "source": [
    "#### Creamos la media de las distancias de cada aldea "
   ]
  },
  {
   "cell_type": "code",
   "execution_count": 63,
   "metadata": {},
   "outputs": [],
   "source": [
    "mean_distances = {\n",
    "    'SE': 911,\n",
    "    'ZE': 372,\n",
    "    'MA': 369\n",
    "}"
   ]
  },
  {
   "cell_type": "code",
   "execution_count": 64,
   "metadata": {},
   "outputs": [],
   "source": [
    "def get_distances(row):\n",
    "    aldea = row['aldea']\n",
    "    return mean_distances[aldea]"
   ]
  },
  {
   "cell_type": "code",
   "execution_count": 66,
   "metadata": {},
   "outputs": [],
   "source": [
    "filtered_base['mean_distance'] = filtered_base.apply(lambda x: get_distances(x), axis=1)"
   ]
  },
  {
   "cell_type": "markdown",
   "metadata": {},
   "source": [
    "### Media de prevalencia por casa "
   ]
  },
  {
   "cell_type": "code",
   "execution_count": 188,
   "metadata": {
    "scrolled": true
   },
   "outputs": [],
   "source": [
    "target_feature = 'sum_G_HOOK'"
   ]
  },
  {
   "cell_type": "markdown",
   "metadata": {},
   "source": [
    "## Agrupamos por casa "
   ]
  },
  {
   "cell_type": "code",
   "execution_count": 189,
   "metadata": {},
   "outputs": [],
   "source": [
    "filtered_by_house = filtered_base.groupby('HOUSE_n_or').first()"
   ]
  },
  {
   "cell_type": "markdown",
   "metadata": {},
   "source": [
    "#### Vemos el target por casa "
   ]
  },
  {
   "cell_type": "code",
   "execution_count": 177,
   "metadata": {
    "scrolled": false
   },
   "outputs": [
    {
     "data": {
      "text/plain": [
       "<matplotlib.axes._subplots.AxesSubplot at 0x7f49cdc5a588>"
      ]
     },
     "execution_count": 177,
     "metadata": {},
     "output_type": "execute_result"
    },
    {
     "data": {
      "image/png": "[encoded data removed]",
      "text/plain": [
       "<Figure size 432x288 with 1 Axes>"
      ]
     },
     "metadata": {
      "needs_background": "light"
     },
     "output_type": "display_data"
    }
   ],
   "source": [
    "filtered_by_house['num_indiv'].hist(bins=50)"
   ]
  },
  {
   "cell_type": "code",
   "execution_count": 190,
   "metadata": {
    "scrolled": false
   },
   "outputs": [
    {
     "data": {
      "text/plain": [
       "<matplotlib.axes._subplots.AxesSubplot at 0x7f49cda95438>"
      ]
     },
     "execution_count": 190,
     "metadata": {},
     "output_type": "execute_result"
    },
    {
     "data": {
      "image/png": "[encoded data removed]",
      "text/plain": [
       "<Figure size 432x288 with 1 Axes>"
      ]
     },
     "metadata": {
      "needs_background": "light"
     },
     "output_type": "display_data"
    }
   ],
   "source": [
    "filtered_by_house[target_feature].hist(bins=35)"
   ]
  },
  {
   "cell_type": "code",
   "execution_count": 193,
   "metadata": {},
   "outputs": [],
   "source": [
    "filtered_by_house = filtered_by_house.drop(columns=['mean_prevalence'])"
   ]
  },
  {
   "cell_type": "markdown",
   "metadata": {},
   "source": [
    "### Dividimos entre target y features "
   ]
  },
  {
   "cell_type": "code",
   "execution_count": 217,
   "metadata": {},
   "outputs": [],
   "source": [
    "target = filtered_by_house[target_feature]\n",
    "features = filtered_by_house.drop(columns=[target_feature])"
   ]
  },
  {
   "cell_type": "markdown",
   "metadata": {},
   "source": [
    "### Fix nan values "
   ]
  },
  {
   "cell_type": "code",
   "execution_count": 235,
   "metadata": {
    "scrolled": true
   },
   "outputs": [],
   "source": [
    "features['Drinking w'] = features['Drinking w'].fillna('Well')\n",
    "features.Drinking_1 = features.Drinking_1.fillna('River')\n",
    "features.Bath = features.Bath.fillna('River')\n",
    "features['Water cook'] = features['Water cook'].fillna('River')\n",
    "features['Hand washi'] = features['Hand washi'].fillna('River')\n",
    "features.Radio = features.Radio.fillna('0')"
   ]
  },
  {
   "cell_type": "markdown",
   "metadata": {},
   "source": [
    "## Encode Categorical data "
   ]
  },
  {
   "cell_type": "markdown",
   "metadata": {},
   "source": [
    "Las que se puede, vamos a encodearla con el orden natural de las caracteristicas que simbolizan\n",
    "\n",
    "Las presencia/ausencia tambien modelan caracteristicas sociales que indican usar valores 0,1"
   ]
  },
  {
   "cell_type": "code",
   "execution_count": 218,
   "metadata": {},
   "outputs": [],
   "source": [
    "toilet_encode = {'Open area/Bush': 0, 'Latrine without slate': 1}\n",
    "water_encode = {'Well': 0, 'River': 1, 'Pipe line': 2, 'Treated boreholes': 3}"
   ]
  },
  {
   "cell_type": "code",
   "execution_count": 221,
   "metadata": {},
   "outputs": [],
   "source": [
    "def encode_categorical_features(row):\n",
    "    elec = int(row['Electricit'])\n",
    "    row['Electricit'] = elec\n",
    "    radio = int(row['Radio'])\n",
    "    row['Radio'] = radio\n",
    "    \n",
    "    toilet = toilet_encode[row['Toilet']]\n",
    "    row['Toilet'] = toilet\n",
    "    \n",
    "    drink_w = water_encode[row['Drinking w']]\n",
    "    row['Drinking w'] = drink_w\n",
    "    \n",
    "    drink_1 = water_encode[row['Drinking_1']]\n",
    "    row['Drinking_1'] = drink_1\n",
    "    \n",
    "    bath = water_encode[row['Bath']]\n",
    "    row['Bath'] = bath\n",
    "    \n",
    "    water_c = water_encode[row['Water cook']]\n",
    "    row['Water cook'] = water_c\n",
    "    \n",
    "    hand_wash = water_encode[row['Hand washi']]\n",
    "    row['Hand washi'] = hand_wash\n",
    "    \n",
    "    \n",
    "    return row\n"
   ]
  },
  {
   "cell_type": "code",
   "execution_count": 236,
   "metadata": {},
   "outputs": [],
   "source": [
    "encoded_features = features.apply(lambda x: encode_categorical_features(x), axis=1)"
   ]
  },
  {
   "cell_type": "code",
   "execution_count": 239,
   "metadata": {},
   "outputs": [
    {
     "data": {
      "text/plain": [
       "Index(['Indv. CODE', 'House_n_gl', 'G_H00K', 'num_indiv', 'Electricit',\n",
       "       'Radio', 'Domestic animals', 'Toilet', 'Drinking w', 'Drinking_1',\n",
       "       'Bath', 'Water cook', 'Hand washi', 'NDVI', 'ri_bfd', 'ri_orcd_n',\n",
       "       'BSI_n', 'MSI_n', 'NDBI_n', 'BLDFIE_n', 'BDRIC_n', 'CECSOL_n', 'Clyp_n',\n",
       "       'Crfvol_n', 'Ocstha_n', 'SLTppt_n', 'Phihox_n', 'Phikcl_n', 'aldea',\n",
       "       'mean_distance'],\n",
       "      dtype='object')"
      ]
     },
     "execution_count": 239,
     "metadata": {},
     "output_type": "execute_result"
    }
   ],
   "source": [
    "encoded_features.columns"
   ]
  }
 ],
 "metadata": {
  "kernelspec": {
   "display_name": "Python 3",
   "language": "python",
   "name": "python3"
  },
  "language_info": {
   "codemirror_mode": {
    "name": "ipython",
    "version": 3
   },
   "file_extension": ".py",
   "mimetype": "text/x-python",
   "name": "python",
   "nbconvert_exporter": "python",
   "pygments_lexer": "ipython3",
   "version": "3.6.9"
  }
 },
 "nbformat": 4,
 "nbformat_minor": 2
}
