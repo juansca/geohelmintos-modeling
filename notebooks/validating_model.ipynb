{
 "cells": [
  {
   "cell_type": "code",
   "execution_count": 1,
   "metadata": {},
   "outputs": [],
   "source": [
    "import pandas as pd\n",
    "import numpy as np"
   ]
  },
  {
   "cell_type": "code",
   "execution_count": 2,
   "metadata": {},
   "outputs": [],
   "source": [
    "selected_columns = ['Indv. CODE', 'HOUSE_n_or', 'House_n_gl', 'G_H00K', 'sum_G_HOOK', 'num_indiv', \n",
    "                    'Electricit', 'Radio', 'Domestic animals', 'Toilet', \n",
    "                    'Drinking w', 'Drinking_1', 'Bath', 'Water cook', \n",
    "                    'Hand washi', 'NDVI', 'ri_bfd', 'ri_orcd_n', 'BSI_n', \n",
    "                    'MSI_n', 'NDBI_n', 'BLDFIE_n', 'BDRIC_n', 'CECSOL_n', \n",
    "                    'Clyp_n', 'Crfvol_n', 'Ocstha_n', 'SLTppt_n', 'Phihox_n', 'Phikcl_n']"
   ]
  },
  {
   "cell_type": "code",
   "execution_count": 3,
   "metadata": {},
   "outputs": [],
   "source": [
    "column_types = {\n",
    "    'GENDER': 'category', \n",
    "    'AGE': 'float64', \n",
    "    're_G_trich': 'category', \n",
    "    're_G_Asc': 'category', \n",
    "    're_G_Hook': 'category', \n",
    "    're_H_Enter': 'category',\n",
    "    're_H_Schis': 'category', \n",
    "    're_H_Hym_n': 'category', \n",
    "    're_H_Hym_d': 'category', \n",
    "    'sum_G_Stro': 'float64', \n",
    "    'sum_G_Tric': 'float64',\n",
    "    'sum_G_Asc': 'float64', \n",
    "    'sum_G_HOOK': 'float64', \n",
    "    'sum_H_Ente': 'float64', \n",
    "    'sum_H_Schi': 'float64', \n",
    "    'sum_H_Hym_': 'float64',\n",
    "    'sum_H_Hy_1': 'float64', \n",
    "    'si_G_Stron': 'category', \n",
    "    'si_G_Trich': 'category', \n",
    "    'si_G_Asc': 'category', \n",
    "    'si_G_Hook': 'category',\n",
    "    'si_H_Enter': 'category', \n",
    "    'si_H_schis': 'category', \n",
    "    'si_H_hym_n': 'category', \n",
    "    'si_H_hym_d': 'category', \n",
    "    'riq_Geoh': 'float64',\n",
    "    'riq_helm': 'float64', \n",
    "    'p_G_Strong': 'float64', \n",
    "    'p_G_Trich': 'float64', \n",
    "    'p_G_Asc': 'float64', \n",
    "    'p_G_HOOK': 'float64',\n",
    "    'p_H_Enter': 'float64', \n",
    "    'p_H_Schis': 'float64', \n",
    "    'p_H_hym_n': 'float64', \n",
    "    'p_H_hym_d': 'float64', \n",
    "    'sh_geohel': 'float64',\n",
    "    'sh_helm': 'float64', \n",
    "    'geohel_dom': 'category', \n",
    "    'Re_hous_nu': 'float64', \n",
    "    'num_indiv': 'float64', \n",
    "    're_G_stron': 'category',\n",
    "       'ind_tip1_G': 'category', \n",
    "    'ind_tip1_H': 'category', \n",
    "    'p_tip1_G': 'float64', \n",
    "    'p_tip1_H': 'float64', \n",
    "    'ind_inf_Ge': 'float64',\n",
    "    'ind_inf_He': 'float64', \n",
    "    'n_Geo_mean': 'float64', \n",
    "    'n_Hel_mean': 'float64', \n",
    "    'HOOKWORM_h': 'float64', \n",
    "    'HGH_x_50': 'float64',\n",
    "    'r_huev_hoo': 'float64', \n",
    "    'Roof': 'category', \n",
    "    'Floor': 'category', \n",
    "    'Wall': 'category', \n",
    "    'Electricit': 'category', \n",
    "    'Radio': 'category',\n",
    "    'Domestic a': 'category', \n",
    "    'Toilet': 'category', \n",
    "    'Drinking w': 'category', \n",
    "    'Drinking_1': 'category', \n",
    "    'Bath': 'category',\n",
    "    'Water cook': 'category', \n",
    "    'Hand washi': 'category', \n",
    "    'Miembros_': 'float64', \n",
    "    'n_geo_stde': 'float64', \n",
    "    'n_Hel_stde': 'float64',\n",
    "    're_hgh50': 'float64', \n",
    "    'sum_hgh50': 'float64', \n",
    "    'Prev_FO': 'float64', \n",
    "    'Prev_piel': 'float64', \n",
    "    'riego_ingr': 'float64',\n",
    "    'riesgo_ele': 'category', \n",
    "    'Riesgo_wat': 'category', \n",
    "    'rieg_w2': 'category', \n",
    "    'riesg_w_2': 'category', \n",
    "    'riesg_w_3': 'category',\n",
    "    'Ri_ingre': 'float64', \n",
    "    'NDVI': 'float64', \n",
    "    'Prec': 'float64', \n",
    "    'ri_bfd': 'float64', \n",
    "    'ri_orcd_n': 'float64', \n",
    "    'Ri_prec': 'float64',\n",
    "    'Ri_NumInd': 'float64', \n",
    "    'BSI_n': 'float64', \n",
    "    'MSI_n': 'float64', \n",
    "    'NDBI_n': 'float64', \n",
    "    'BLDFIE_n': 'float64', \n",
    "    'BDRIC_n': 'float64',\n",
    "    'CECSOL_n': 'float64', \n",
    "    'Clyp_n': 'float64', \n",
    "    'Crfvol_n': 'float64', \n",
    "    'Ocstha_n': 'float64', \n",
    "    'SLTppt_n': 'float64', \n",
    "    'Phihox_n': 'float64',\n",
    "    'Phikcl_n': 'float64', \n",
    "    'Temp_n': 'float64'\n",
    "}"
   ]
  },
  {
   "cell_type": "code",
   "execution_count": 4,
   "metadata": {},
   "outputs": [],
   "source": [
    "base_path = '../data/geohelmints_base.csv'"
   ]
  },
  {
   "cell_type": "code",
   "execution_count": 5,
   "metadata": {},
   "outputs": [],
   "source": [
    "raw_df = pd.read_csv(base_path, dtype=column_types, header=0, na_values=[' ', '*', ''])"
   ]
  },
  {
   "cell_type": "markdown",
   "metadata": {},
   "source": [
    "#### Sacamos las ultimas dos filas porque no van "
   ]
  },
  {
   "cell_type": "code",
   "execution_count": 6,
   "metadata": {
    "scrolled": true
   },
   "outputs": [],
   "source": [
    "filtered_base = raw_df.loc[:len(raw_df)-3,selected_columns]"
   ]
  },
  {
   "cell_type": "markdown",
   "metadata": {},
   "source": [
    "### Creamos Nuevas Features "
   ]
  },
  {
   "cell_type": "markdown",
   "metadata": {},
   "source": [
    "#### Creamos las aldeas "
   ]
  },
  {
   "cell_type": "code",
   "execution_count": 7,
   "metadata": {},
   "outputs": [
    {
     "data": {
      "text/plain": [
       "0       SE01\n",
       "1       SE02\n",
       "2       SE03\n",
       "3       SE04\n",
       "4       SE05\n",
       "       ...  \n",
       "365    ZE116\n",
       "366    ZE117\n",
       "367    ZE118\n",
       "368    ZE121\n",
       "369    ZE123\n",
       "Name: Indv. CODE, Length: 370, dtype: object"
      ]
     },
     "execution_count": 7,
     "metadata": {},
     "output_type": "execute_result"
    }
   ],
   "source": [
    "filtered_base['Indv. CODE']"
   ]
  },
  {
   "cell_type": "code",
   "execution_count": 8,
   "metadata": {},
   "outputs": [],
   "source": [
    "# La aldea es representada por las primeras lestras del codigo del individuo\n",
    "filtered_base['aldea']=filtered_base['Indv. CODE'].apply(lambda x: x[:2])"
   ]
  },
  {
   "cell_type": "markdown",
   "metadata": {},
   "source": [
    "#### Creamos la media de las distancias de cada aldea "
   ]
  },
  {
   "cell_type": "code",
   "execution_count": 9,
   "metadata": {},
   "outputs": [],
   "source": [
    "mean_distances = {\n",
    "    'SE': 911,\n",
    "    'ZE': 372,\n",
    "    'MA': 369\n",
    "}"
   ]
  },
  {
   "cell_type": "code",
   "execution_count": 10,
   "metadata": {},
   "outputs": [],
   "source": [
    "def get_distances(row):\n",
    "    aldea = row['aldea']\n",
    "    return mean_distances[aldea]"
   ]
  },
  {
   "cell_type": "code",
   "execution_count": 11,
   "metadata": {},
   "outputs": [],
   "source": [
    "filtered_base['mean_distance'] = filtered_base.apply(lambda x: get_distances(x), axis=1)"
   ]
  },
  {
   "cell_type": "markdown",
   "metadata": {},
   "source": [
    "### Media de prevalencia por casa "
   ]
  },
  {
   "cell_type": "code",
   "execution_count": 12,
   "metadata": {
    "scrolled": true
   },
   "outputs": [],
   "source": [
    "target_feature = 'sum_G_HOOK'"
   ]
  },
  {
   "cell_type": "markdown",
   "metadata": {},
   "source": [
    "## Agrupamos por casa "
   ]
  },
  {
   "cell_type": "code",
   "execution_count": 13,
   "metadata": {},
   "outputs": [],
   "source": [
    "base_byhouse = filtered_base.groupby('HOUSE_n_or').first()"
   ]
  },
  {
   "cell_type": "markdown",
   "metadata": {},
   "source": [
    "#### Vemos el target por casa "
   ]
  },
  {
   "cell_type": "code",
   "execution_count": 14,
   "metadata": {
    "scrolled": false
   },
   "outputs": [
    {
     "name": "stderr",
     "output_type": "stream",
     "text": [
      "In /home/juansca/.local/lib/python3.6/site-packages/matplotlib/mpl-data/stylelib/_classic_test.mplstyle: \n",
      "The text.latex.unicode rcparam was deprecated in Matplotlib 3.0 and will be removed in 3.2.\n",
      "In /home/juansca/.local/lib/python3.6/site-packages/matplotlib/mpl-data/stylelib/_classic_test.mplstyle: \n",
      "The savefig.frameon rcparam was deprecated in Matplotlib 3.1 and will be removed in 3.3.\n",
      "In /home/juansca/.local/lib/python3.6/site-packages/matplotlib/mpl-data/stylelib/_classic_test.mplstyle: \n",
      "The pgf.debug rcparam was deprecated in Matplotlib 3.0 and will be removed in 3.2.\n",
      "In /home/juansca/.local/lib/python3.6/site-packages/matplotlib/mpl-data/stylelib/_classic_test.mplstyle: \n",
      "The verbose.level rcparam was deprecated in Matplotlib 3.1 and will be removed in 3.3.\n",
      "In /home/juansca/.local/lib/python3.6/site-packages/matplotlib/mpl-data/stylelib/_classic_test.mplstyle: \n",
      "The verbose.fileo rcparam was deprecated in Matplotlib 3.1 and will be removed in 3.3.\n"
     ]
    },
    {
     "data": {
      "text/plain": [
       "<matplotlib.axes._subplots.AxesSubplot at 0x7fd51c38b780>"
      ]
     },
     "execution_count": 14,
     "metadata": {},
     "output_type": "execute_result"
    },
    {
     "data": {
      "image/png": "[encoded data removed]",
      "text/plain": [
       "<Figure size 432x288 with 1 Axes>"
      ]
     },
     "metadata": {
      "needs_background": "light"
     },
     "output_type": "display_data"
    }
   ],
   "source": [
    "base_byhouse['num_indiv'].hist(bins=50)"
   ]
  },
  {
   "cell_type": "code",
   "execution_count": 15,
   "metadata": {
    "scrolled": false
   },
   "outputs": [
    {
     "data": {
      "text/plain": [
       "<matplotlib.axes._subplots.AxesSubplot at 0x7fd513b8a198>"
      ]
     },
     "execution_count": 15,
     "metadata": {},
     "output_type": "execute_result"
    },
    {
     "data": {
      "image/png": "[encoded data removed]",
      "text/plain": [
       "<Figure size 432x288 with 1 Axes>"
      ]
     },
     "metadata": {
      "needs_background": "light"
     },
     "output_type": "display_data"
    }
   ],
   "source": [
    "base_byhouse[target_feature].hist(bins=35)"
   ]
  },
  {
   "cell_type": "markdown",
   "metadata": {},
   "source": [
    "### Dividimos entre target y features "
   ]
  },
  {
   "cell_type": "code",
   "execution_count": 16,
   "metadata": {},
   "outputs": [],
   "source": [
    "features = base_byhouse.drop(columns=[target_feature])"
   ]
  },
  {
   "cell_type": "code",
   "execution_count": 17,
   "metadata": {},
   "outputs": [],
   "source": [
    "target = base_byhouse[target_feature]"
   ]
  },
  {
   "cell_type": "markdown",
   "metadata": {},
   "source": [
    "### Fix nan values "
   ]
  },
  {
   "cell_type": "code",
   "execution_count": 18,
   "metadata": {
    "scrolled": true
   },
   "outputs": [],
   "source": [
    "features['Drinking w'] = features['Drinking w'].fillna('Well')\n",
    "features.Drinking_1 = features.Drinking_1.fillna('River')\n",
    "features.Bath = features.Bath.fillna('River')\n",
    "features['Water cook'] = features['Water cook'].fillna('River')\n",
    "features['Hand washi'] = features['Hand washi'].fillna('River')\n",
    "features.Radio = features.Radio.fillna('0')"
   ]
  },
  {
   "cell_type": "markdown",
   "metadata": {},
   "source": [
    "## Encode Categorical data "
   ]
  },
  {
   "cell_type": "markdown",
   "metadata": {},
   "source": [
    "Las que se puede, vamos a encodearla con el orden natural de las caracteristicas que simbolizan\n",
    "\n",
    "Las presencia/ausencia tambien modelan caracteristicas sociales que indican usar valores 0,1"
   ]
  },
  {
   "cell_type": "code",
   "execution_count": 19,
   "metadata": {},
   "outputs": [],
   "source": [
    "toilet_encode = {'Open area/Bush': 0, 'Latrine without slate': 1}\n",
    "water_encode = {'Well': 0, 'River': 1, 'Pipe line': 2, 'Treated boreholes': 3}"
   ]
  },
  {
   "cell_type": "code",
   "execution_count": 20,
   "metadata": {},
   "outputs": [],
   "source": [
    "def encode_categorical_features(row):\n",
    "    elec = int(row['Electricit'])\n",
    "    row['Electricit'] = elec\n",
    "    radio = int(row['Radio'])\n",
    "    row['Radio'] = radio\n",
    "    \n",
    "    toilet = toilet_encode[row['Toilet']]\n",
    "    row['Toilet'] = toilet\n",
    "    \n",
    "    drink_w = water_encode[row['Drinking w']]\n",
    "    row['Drinking w'] = drink_w\n",
    "    \n",
    "    drink_1 = water_encode[row['Drinking_1']]\n",
    "    row['Drinking_1'] = drink_1\n",
    "    \n",
    "    bath = water_encode[row['Bath']]\n",
    "    row['Bath'] = bath\n",
    "    \n",
    "    water_c = water_encode[row['Water cook']]\n",
    "    row['Water cook'] = water_c\n",
    "    \n",
    "    hand_wash = water_encode[row['Hand washi']]\n",
    "    row['Hand washi'] = hand_wash\n",
    "    \n",
    "    \n",
    "    return row\n"
   ]
  },
  {
   "cell_type": "code",
   "execution_count": 21,
   "metadata": {},
   "outputs": [],
   "source": [
    "encoded_features = features.apply(lambda x: encode_categorical_features(x), axis=1)"
   ]
  },
  {
   "cell_type": "code",
   "execution_count": 22,
   "metadata": {},
   "outputs": [],
   "source": [
    "non_columns = ['aldea','Indv. CODE','House_n_gl','G_H00K']\n",
    "# features_casas es lo mismo que base_saldeas del otro notebook\n",
    "features_casas = encoded_features.drop(columns=non_columns)"
   ]
  },
  {
   "cell_type": "code",
   "execution_count": 23,
   "metadata": {},
   "outputs": [
    {
     "data": {
      "text/html": [
       "<div>\n",
       "<style scoped>\n",
       "    .dataframe tbody tr th:only-of-type {\n",
       "        vertical-align: middle;\n",
       "    }\n",
       "\n",
       "    .dataframe tbody tr th {\n",
       "        vertical-align: top;\n",
       "    }\n",
       "\n",
       "    .dataframe thead th {\n",
       "        text-align: right;\n",
       "    }\n",
       "</style>\n",
       "<table border=\"1\" class=\"dataframe\">\n",
       "  <thead>\n",
       "    <tr style=\"text-align: right;\">\n",
       "      <th></th>\n",
       "      <th>num_indiv</th>\n",
       "      <th>Electricit</th>\n",
       "      <th>Radio</th>\n",
       "      <th>Domestic animals</th>\n",
       "      <th>Toilet</th>\n",
       "      <th>Drinking w</th>\n",
       "      <th>Drinking_1</th>\n",
       "      <th>Bath</th>\n",
       "      <th>Water cook</th>\n",
       "      <th>Hand washi</th>\n",
       "      <th>...</th>\n",
       "      <th>BLDFIE_n</th>\n",
       "      <th>BDRIC_n</th>\n",
       "      <th>CECSOL_n</th>\n",
       "      <th>Clyp_n</th>\n",
       "      <th>Crfvol_n</th>\n",
       "      <th>Ocstha_n</th>\n",
       "      <th>SLTppt_n</th>\n",
       "      <th>Phihox_n</th>\n",
       "      <th>Phikcl_n</th>\n",
       "      <th>mean_distance</th>\n",
       "    </tr>\n",
       "    <tr>\n",
       "      <th>HOUSE_n_or</th>\n",
       "      <th></th>\n",
       "      <th></th>\n",
       "      <th></th>\n",
       "      <th></th>\n",
       "      <th></th>\n",
       "      <th></th>\n",
       "      <th></th>\n",
       "      <th></th>\n",
       "      <th></th>\n",
       "      <th></th>\n",
       "      <th></th>\n",
       "      <th></th>\n",
       "      <th></th>\n",
       "      <th></th>\n",
       "      <th></th>\n",
       "      <th></th>\n",
       "      <th></th>\n",
       "      <th></th>\n",
       "      <th></th>\n",
       "      <th></th>\n",
       "      <th></th>\n",
       "    </tr>\n",
       "  </thead>\n",
       "  <tbody>\n",
       "    <tr>\n",
       "      <th>MA-01</th>\n",
       "      <td>4.0</td>\n",
       "      <td>0</td>\n",
       "      <td>0</td>\n",
       "      <td>1.0</td>\n",
       "      <td>0</td>\n",
       "      <td>0</td>\n",
       "      <td>0</td>\n",
       "      <td>1</td>\n",
       "      <td>0</td>\n",
       "      <td>0</td>\n",
       "      <td>...</td>\n",
       "      <td>0.256</td>\n",
       "      <td>1.0</td>\n",
       "      <td>0.336</td>\n",
       "      <td>0.333</td>\n",
       "      <td>0.435</td>\n",
       "      <td>0.200</td>\n",
       "      <td>0.4</td>\n",
       "      <td>0.000</td>\n",
       "      <td>0.679</td>\n",
       "      <td>369</td>\n",
       "    </tr>\n",
       "    <tr>\n",
       "      <th>MA-02</th>\n",
       "      <td>5.0</td>\n",
       "      <td>0</td>\n",
       "      <td>0</td>\n",
       "      <td>1.0</td>\n",
       "      <td>0</td>\n",
       "      <td>0</td>\n",
       "      <td>0</td>\n",
       "      <td>0</td>\n",
       "      <td>0</td>\n",
       "      <td>0</td>\n",
       "      <td>...</td>\n",
       "      <td>0.178</td>\n",
       "      <td>1.0</td>\n",
       "      <td>0.336</td>\n",
       "      <td>0.333</td>\n",
       "      <td>0.478</td>\n",
       "      <td>0.100</td>\n",
       "      <td>0.4</td>\n",
       "      <td>0.250</td>\n",
       "      <td>0.428</td>\n",
       "      <td>369</td>\n",
       "    </tr>\n",
       "    <tr>\n",
       "      <th>MA-03</th>\n",
       "      <td>12.0</td>\n",
       "      <td>0</td>\n",
       "      <td>0</td>\n",
       "      <td>1.0</td>\n",
       "      <td>0</td>\n",
       "      <td>0</td>\n",
       "      <td>0</td>\n",
       "      <td>0</td>\n",
       "      <td>0</td>\n",
       "      <td>0</td>\n",
       "      <td>...</td>\n",
       "      <td>0.229</td>\n",
       "      <td>1.0</td>\n",
       "      <td>0.336</td>\n",
       "      <td>0.333</td>\n",
       "      <td>0.450</td>\n",
       "      <td>0.165</td>\n",
       "      <td>0.4</td>\n",
       "      <td>0.087</td>\n",
       "      <td>0.591</td>\n",
       "      <td>369</td>\n",
       "    </tr>\n",
       "    <tr>\n",
       "      <th>MA-04</th>\n",
       "      <td>3.0</td>\n",
       "      <td>0</td>\n",
       "      <td>0</td>\n",
       "      <td>0.0</td>\n",
       "      <td>0</td>\n",
       "      <td>0</td>\n",
       "      <td>0</td>\n",
       "      <td>0</td>\n",
       "      <td>0</td>\n",
       "      <td>0</td>\n",
       "      <td>...</td>\n",
       "      <td>0.193</td>\n",
       "      <td>1.0</td>\n",
       "      <td>0.336</td>\n",
       "      <td>0.333</td>\n",
       "      <td>0.470</td>\n",
       "      <td>0.119</td>\n",
       "      <td>0.4</td>\n",
       "      <td>0.202</td>\n",
       "      <td>0.476</td>\n",
       "      <td>369</td>\n",
       "    </tr>\n",
       "    <tr>\n",
       "      <th>MA-05</th>\n",
       "      <td>3.0</td>\n",
       "      <td>0</td>\n",
       "      <td>0</td>\n",
       "      <td>0.0</td>\n",
       "      <td>0</td>\n",
       "      <td>0</td>\n",
       "      <td>0</td>\n",
       "      <td>0</td>\n",
       "      <td>0</td>\n",
       "      <td>0</td>\n",
       "      <td>...</td>\n",
       "      <td>0.197</td>\n",
       "      <td>1.0</td>\n",
       "      <td>0.336</td>\n",
       "      <td>0.333</td>\n",
       "      <td>0.468</td>\n",
       "      <td>0.124</td>\n",
       "      <td>0.4</td>\n",
       "      <td>0.189</td>\n",
       "      <td>0.489</td>\n",
       "      <td>369</td>\n",
       "    </tr>\n",
       "    <tr>\n",
       "      <th>...</th>\n",
       "      <td>...</td>\n",
       "      <td>...</td>\n",
       "      <td>...</td>\n",
       "      <td>...</td>\n",
       "      <td>...</td>\n",
       "      <td>...</td>\n",
       "      <td>...</td>\n",
       "      <td>...</td>\n",
       "      <td>...</td>\n",
       "      <td>...</td>\n",
       "      <td>...</td>\n",
       "      <td>...</td>\n",
       "      <td>...</td>\n",
       "      <td>...</td>\n",
       "      <td>...</td>\n",
       "      <td>...</td>\n",
       "      <td>...</td>\n",
       "      <td>...</td>\n",
       "      <td>...</td>\n",
       "      <td>...</td>\n",
       "      <td>...</td>\n",
       "    </tr>\n",
       "    <tr>\n",
       "      <th>ZE-40</th>\n",
       "      <td>1.0</td>\n",
       "      <td>1</td>\n",
       "      <td>0</td>\n",
       "      <td>0.0</td>\n",
       "      <td>0</td>\n",
       "      <td>1</td>\n",
       "      <td>0</td>\n",
       "      <td>0</td>\n",
       "      <td>0</td>\n",
       "      <td>0</td>\n",
       "      <td>...</td>\n",
       "      <td>0.223</td>\n",
       "      <td>1.0</td>\n",
       "      <td>0.783</td>\n",
       "      <td>0.444</td>\n",
       "      <td>0.217</td>\n",
       "      <td>0.300</td>\n",
       "      <td>0.6</td>\n",
       "      <td>0.500</td>\n",
       "      <td>0.428</td>\n",
       "      <td>372</td>\n",
       "    </tr>\n",
       "    <tr>\n",
       "      <th>ZE-41</th>\n",
       "      <td>2.0</td>\n",
       "      <td>1</td>\n",
       "      <td>0</td>\n",
       "      <td>0.0</td>\n",
       "      <td>1</td>\n",
       "      <td>0</td>\n",
       "      <td>0</td>\n",
       "      <td>0</td>\n",
       "      <td>0</td>\n",
       "      <td>0</td>\n",
       "      <td>...</td>\n",
       "      <td>0.223</td>\n",
       "      <td>1.0</td>\n",
       "      <td>0.783</td>\n",
       "      <td>0.444</td>\n",
       "      <td>0.217</td>\n",
       "      <td>0.300</td>\n",
       "      <td>0.6</td>\n",
       "      <td>0.500</td>\n",
       "      <td>0.428</td>\n",
       "      <td>372</td>\n",
       "    </tr>\n",
       "    <tr>\n",
       "      <th>ZE-43</th>\n",
       "      <td>5.0</td>\n",
       "      <td>1</td>\n",
       "      <td>1</td>\n",
       "      <td>0.0</td>\n",
       "      <td>0</td>\n",
       "      <td>0</td>\n",
       "      <td>0</td>\n",
       "      <td>0</td>\n",
       "      <td>0</td>\n",
       "      <td>0</td>\n",
       "      <td>...</td>\n",
       "      <td>0.290</td>\n",
       "      <td>1.0</td>\n",
       "      <td>0.559</td>\n",
       "      <td>0.444</td>\n",
       "      <td>0.174</td>\n",
       "      <td>0.300</td>\n",
       "      <td>0.4</td>\n",
       "      <td>0.750</td>\n",
       "      <td>0.929</td>\n",
       "      <td>372</td>\n",
       "    </tr>\n",
       "    <tr>\n",
       "      <th>ZE-44</th>\n",
       "      <td>2.0</td>\n",
       "      <td>1</td>\n",
       "      <td>0</td>\n",
       "      <td>1.0</td>\n",
       "      <td>1</td>\n",
       "      <td>0</td>\n",
       "      <td>0</td>\n",
       "      <td>0</td>\n",
       "      <td>0</td>\n",
       "      <td>0</td>\n",
       "      <td>...</td>\n",
       "      <td>0.223</td>\n",
       "      <td>1.0</td>\n",
       "      <td>0.783</td>\n",
       "      <td>0.444</td>\n",
       "      <td>0.217</td>\n",
       "      <td>0.300</td>\n",
       "      <td>0.6</td>\n",
       "      <td>0.500</td>\n",
       "      <td>0.428</td>\n",
       "      <td>372</td>\n",
       "    </tr>\n",
       "    <tr>\n",
       "      <th>ZE-46</th>\n",
       "      <td>2.0</td>\n",
       "      <td>1</td>\n",
       "      <td>0</td>\n",
       "      <td>0.0</td>\n",
       "      <td>0</td>\n",
       "      <td>1</td>\n",
       "      <td>0</td>\n",
       "      <td>0</td>\n",
       "      <td>0</td>\n",
       "      <td>0</td>\n",
       "      <td>...</td>\n",
       "      <td>0.223</td>\n",
       "      <td>1.0</td>\n",
       "      <td>0.783</td>\n",
       "      <td>0.444</td>\n",
       "      <td>0.217</td>\n",
       "      <td>0.300</td>\n",
       "      <td>0.6</td>\n",
       "      <td>0.500</td>\n",
       "      <td>0.428</td>\n",
       "      <td>372</td>\n",
       "    </tr>\n",
       "  </tbody>\n",
       "</table>\n",
       "<p>109 rows × 26 columns</p>\n",
       "</div>"
      ],
      "text/plain": [
       "            num_indiv  Electricit  Radio  Domestic animals  Toilet  \\\n",
       "HOUSE_n_or                                                           \n",
       "MA-01             4.0           0      0               1.0       0   \n",
       "MA-02             5.0           0      0               1.0       0   \n",
       "MA-03            12.0           0      0               1.0       0   \n",
       "MA-04             3.0           0      0               0.0       0   \n",
       "MA-05             3.0           0      0               0.0       0   \n",
       "...               ...         ...    ...               ...     ...   \n",
       "ZE-40             1.0           1      0               0.0       0   \n",
       "ZE-41             2.0           1      0               0.0       1   \n",
       "ZE-43             5.0           1      1               0.0       0   \n",
       "ZE-44             2.0           1      0               1.0       1   \n",
       "ZE-46             2.0           1      0               0.0       0   \n",
       "\n",
       "            Drinking w  Drinking_1  Bath  Water cook  Hand washi  ...  \\\n",
       "HOUSE_n_or                                                        ...   \n",
       "MA-01                0           0     1           0           0  ...   \n",
       "MA-02                0           0     0           0           0  ...   \n",
       "MA-03                0           0     0           0           0  ...   \n",
       "MA-04                0           0     0           0           0  ...   \n",
       "MA-05                0           0     0           0           0  ...   \n",
       "...                ...         ...   ...         ...         ...  ...   \n",
       "ZE-40                1           0     0           0           0  ...   \n",
       "ZE-41                0           0     0           0           0  ...   \n",
       "ZE-43                0           0     0           0           0  ...   \n",
       "ZE-44                0           0     0           0           0  ...   \n",
       "ZE-46                1           0     0           0           0  ...   \n",
       "\n",
       "            BLDFIE_n  BDRIC_n  CECSOL_n  Clyp_n  Crfvol_n  Ocstha_n  SLTppt_n  \\\n",
       "HOUSE_n_or                                                                      \n",
       "MA-01          0.256      1.0     0.336   0.333     0.435     0.200       0.4   \n",
       "MA-02          0.178      1.0     0.336   0.333     0.478     0.100       0.4   \n",
       "MA-03          0.229      1.0     0.336   0.333     0.450     0.165       0.4   \n",
       "MA-04          0.193      1.0     0.336   0.333     0.470     0.119       0.4   \n",
       "MA-05          0.197      1.0     0.336   0.333     0.468     0.124       0.4   \n",
       "...              ...      ...       ...     ...       ...       ...       ...   \n",
       "ZE-40          0.223      1.0     0.783   0.444     0.217     0.300       0.6   \n",
       "ZE-41          0.223      1.0     0.783   0.444     0.217     0.300       0.6   \n",
       "ZE-43          0.290      1.0     0.559   0.444     0.174     0.300       0.4   \n",
       "ZE-44          0.223      1.0     0.783   0.444     0.217     0.300       0.6   \n",
       "ZE-46          0.223      1.0     0.783   0.444     0.217     0.300       0.6   \n",
       "\n",
       "            Phihox_n  Phikcl_n  mean_distance  \n",
       "HOUSE_n_or                                     \n",
       "MA-01          0.000     0.679            369  \n",
       "MA-02          0.250     0.428            369  \n",
       "MA-03          0.087     0.591            369  \n",
       "MA-04          0.202     0.476            369  \n",
       "MA-05          0.189     0.489            369  \n",
       "...              ...       ...            ...  \n",
       "ZE-40          0.500     0.428            372  \n",
       "ZE-41          0.500     0.428            372  \n",
       "ZE-43          0.750     0.929            372  \n",
       "ZE-44          0.500     0.428            372  \n",
       "ZE-46          0.500     0.428            372  \n",
       "\n",
       "[109 rows x 26 columns]"
      ]
     },
     "execution_count": 23,
     "metadata": {},
     "output_type": "execute_result"
    }
   ],
   "source": [
    "features_casas"
   ]
  },
  {
   "cell_type": "code",
   "execution_count": 24,
   "metadata": {},
   "outputs": [
    {
     "data": {
      "text/plain": [
       "Index(['num_indiv', 'Electricit', 'Radio', 'Domestic animals', 'Toilet',\n",
       "       'Drinking w', 'Drinking_1', 'Bath', 'Water cook', 'Hand washi', 'NDVI',\n",
       "       'ri_bfd', 'ri_orcd_n', 'BSI_n', 'MSI_n', 'NDBI_n', 'BLDFIE_n',\n",
       "       'BDRIC_n', 'CECSOL_n', 'Clyp_n', 'Crfvol_n', 'Ocstha_n', 'SLTppt_n',\n",
       "       'Phihox_n', 'Phikcl_n', 'mean_distance'],\n",
       "      dtype='object')"
      ]
     },
     "execution_count": 24,
     "metadata": {},
     "output_type": "execute_result"
    }
   ],
   "source": [
    "features_casas.columns"
   ]
  },
  {
   "cell_type": "code",
   "execution_count": 25,
   "metadata": {},
   "outputs": [
    {
     "data": {
      "text/plain": [
       "HOUSE_n_or\n",
       "MA-01    4.0\n",
       "MA-02    4.0\n",
       "MA-03    8.0\n",
       "MA-04    3.0\n",
       "MA-05    3.0\n",
       "        ... \n",
       "ZE-40    1.0\n",
       "ZE-41    2.0\n",
       "ZE-43    3.0\n",
       "ZE-44    2.0\n",
       "ZE-46    1.0\n",
       "Name: sum_G_HOOK, Length: 109, dtype: float64"
      ]
     },
     "execution_count": 25,
     "metadata": {},
     "output_type": "execute_result"
    }
   ],
   "source": [
    "target"
   ]
  },
  {
   "cell_type": "markdown",
   "metadata": {},
   "source": [
    "# Una vez que limpiamos los datos, entrenamos el modelo¶\n"
   ]
  },
  {
   "cell_type": "markdown",
   "metadata": {},
   "source": [
    "### Dividimos la data en train-test\n",
    "\n",
    "#### Haremos una dividisión 80-20"
   ]
  },
  {
   "cell_type": "code",
   "execution_count": 26,
   "metadata": {},
   "outputs": [],
   "source": [
    "from sklearn.model_selection import train_test_split \n",
    "\n",
    "X_train, X_test, y_train, y_test = train_test_split(features_casas, target, test_size=0.20, random_state=42)"
   ]
  },
  {
   "cell_type": "code",
   "execution_count": 27,
   "metadata": {
    "scrolled": true
   },
   "outputs": [
    {
     "data": {
      "text/plain": [
       "(87, 22)"
      ]
     },
     "execution_count": 27,
     "metadata": {},
     "output_type": "execute_result"
    }
   ],
   "source": [
    "len(X_train), len(X_test)"
   ]
  },
  {
   "cell_type": "markdown",
   "metadata": {},
   "source": [
    "## Primero, tuneamos parametros via Crossvalidation"
   ]
  },
  {
   "cell_type": "code",
   "execution_count": 28,
   "metadata": {},
   "outputs": [],
   "source": [
    "import numpy as np\n",
    "from sklearn.model_selection import cross_val_score\n",
    "from sklearn.model_selection import train_test_split \n",
    "\n",
    "def stats(xs, ts, model, n_splits=5):\n",
    "    scores = cross_val_score(model, xs, ts, cv=n_splits, scoring='neg_mean_squared_error')\n",
    "\n",
    "    scores = np.sqrt(-scores)\n",
    "\n",
    "    mean = scores.mean()\n",
    "    std_dev = scores.std()\n",
    "\n",
    "    return scores, mean, std_dev\n",
    "\n",
    "\n",
    "def print_stats(scores, mean, std_dev, title='Stats'):\n",
    "    print()\n",
    "    print(title)\n",
    "    print('-' * len(title))\n",
    "    print('')\n",
    "    print('Model Scores: ', scores)\n",
    "    print('Mean Score: ', mean)\n",
    "    print('Standard Deviation of Score: ', std_dev)"
   ]
  },
  {
   "cell_type": "markdown",
   "metadata": {},
   "source": [
    "## Primero, un RandomForest"
   ]
  },
  {
   "cell_type": "code",
   "execution_count": 29,
   "metadata": {},
   "outputs": [],
   "source": [
    "from sklearn.ensemble import RandomForestRegressor"
   ]
  },
  {
   "cell_type": "code",
   "execution_count": 30,
   "metadata": {},
   "outputs": [
    {
     "data": {
      "text/plain": [
       "RandomForestRegressor(bootstrap=True, ccp_alpha=0.0, criterion='mse',\n",
       "                      max_depth=None, max_features='auto', max_leaf_nodes=None,\n",
       "                      max_samples=None, min_impurity_decrease=0.0,\n",
       "                      min_impurity_split=None, min_samples_leaf=1,\n",
       "                      min_samples_split=2, min_weight_fraction_leaf=0.0,\n",
       "                      n_estimators=100, n_jobs=None, oob_score=False,\n",
       "                      random_state=None, verbose=0, warm_start=False)"
      ]
     },
     "execution_count": 30,
     "metadata": {},
     "output_type": "execute_result"
    }
   ],
   "source": [
    "RandomForestRegressor()\n"
   ]
  },
  {
   "cell_type": "code",
   "execution_count": 31,
   "metadata": {},
   "outputs": [],
   "source": [
    "rndm_params = {'max_depth': 3, 'n_estimators':5, \n",
    "             'oob_score': 'squarederror', 'random_state':4,\n",
    "          }\n"
   ]
  },
  {
   "cell_type": "code",
   "execution_count": 32,
   "metadata": {},
   "outputs": [],
   "source": [
    "rnd_scores, rnd_mean, rnd_std_dev = stats(X_train, y_train, RandomForestRegressor())"
   ]
  },
  {
   "cell_type": "code",
   "execution_count": 33,
   "metadata": {},
   "outputs": [
    {
     "name": "stdout",
     "output_type": "stream",
     "text": [
      "\n",
      "Stats\n",
      "-----\n",
      "\n",
      "Model Scores:  [1.39984523 1.12093959 0.99764428 0.77261207 1.42844218]\n",
      "Mean Score:  1.1438966698833535\n",
      "Standard Deviation of Score:  0.2474852939495153\n"
     ]
    }
   ],
   "source": [
    "print_stats(rnd_scores, rnd_mean, rnd_std_dev)"
   ]
  },
  {
   "cell_type": "markdown",
   "metadata": {},
   "source": [
    "## Ahora, para el XGBoost "
   ]
  },
  {
   "cell_type": "code",
   "execution_count": 34,
   "metadata": {},
   "outputs": [
    {
     "name": "stderr",
     "output_type": "stream",
     "text": [
      "/usr/local/lib/python3.6/dist-packages/dask/dataframe/utils.py:14: FutureWarning: pandas.util.testing is deprecated. Use the functions in the public API at pandas.testing instead.\n",
      "  import pandas.util.testing as tm\n"
     ]
    }
   ],
   "source": [
    "from xgboost.sklearn import XGBModel"
   ]
  },
  {
   "cell_type": "code",
   "execution_count": 35,
   "metadata": {},
   "outputs": [],
   "source": [
    "xgb_params = {'max_depth': 3, 'n_estimators':5,\n",
    "          'tree_method': 'exact', 'booster': 'gbtree', \n",
    "         'objective': 'reg:squarederror', 'colsample_bynode': 0.2, 'base_score':y_train.mean()}\n"
   ]
  },
  {
   "cell_type": "code",
   "execution_count": 36,
   "metadata": {
    "scrolled": false
   },
   "outputs": [],
   "source": [
    "xgb_scores, xgb_mean, xgb_std_dev = stats(X_train, y_train, XGBModel(**xgb_params))"
   ]
  },
  {
   "cell_type": "code",
   "execution_count": 37,
   "metadata": {},
   "outputs": [
    {
     "name": "stdout",
     "output_type": "stream",
     "text": [
      "\n",
      "Stats\n",
      "-----\n",
      "\n",
      "Model Scores:  [1.36471886 1.23527769 1.13221864 0.81947044 1.55573183]\n",
      "Mean Score:  1.2214834924913416\n",
      "Standard Deviation of Score:  0.24576871670417533\n"
     ]
    }
   ],
   "source": [
    "print_stats(xgb_scores, xgb_mean, xgb_std_dev)"
   ]
  },
  {
   "cell_type": "markdown",
   "metadata": {},
   "source": [
    "### Notamos que el XGBOOST da mejor performance "
   ]
  },
  {
   "cell_type": "markdown",
   "metadata": {},
   "source": [
    "## Ahora vemos las relaciones de los modelos entrenados con respecto a la prediccion "
   ]
  },
  {
   "cell_type": "code",
   "execution_count": 38,
   "metadata": {},
   "outputs": [],
   "source": [
    "model_xgb = XGBModel(**xgb_params)"
   ]
  },
  {
   "cell_type": "code",
   "execution_count": 39,
   "metadata": {},
   "outputs": [
    {
     "data": {
      "text/plain": [
       "XGBModel(base_score=2.632183908045977, booster='gbtree', colsample_bylevel=1,\n",
       "         colsample_bynode=0.2, colsample_bytree=1, gamma=0, gpu_id=-1,\n",
       "         importance_type='gain', interaction_constraints=None,\n",
       "         learning_rate=0.300000012, max_delta_step=0, max_depth=3,\n",
       "         min_child_weight=1, missing=nan, monotone_constraints=None,\n",
       "         n_estimators=5, n_jobs=0, num_parallel_tree=1,\n",
       "         objective='reg:squarederror', random_state=0, reg_alpha=0,\n",
       "         reg_lambda=1, scale_pos_weight=1, subsample=1, tree_method='exact',\n",
       "         validate_parameters=False, verbosity=None)"
      ]
     },
     "execution_count": 39,
     "metadata": {},
     "output_type": "execute_result"
    }
   ],
   "source": [
    "model_xgb.fit(X_train, y_train)"
   ]
  },
  {
   "cell_type": "code",
   "execution_count": 40,
   "metadata": {},
   "outputs": [
    {
     "name": "stdout",
     "output_type": "stream",
     "text": [
      "MSE para el conjunto de entrenamiento:  8.517241379310345\n",
      "MSE para el conjunto de test:  5.909090909090909\n"
     ]
    }
   ],
   "source": [
    "import random\n",
    "from sklearn.metrics import mean_squared_error, r2_score\n",
    "\n",
    "# Este es el modelo que tira numeros aleatorios entre 0 y 6\n",
    "train_random_model = [random.randint(0,6) for _ in range(len(y_train))]\n",
    "test_random_model = [random.randint(0,6) for _ in range(len(y_test))]\n",
    "\n",
    "print('MSE para el conjunto de entrenamiento: ', mean_squared_error(y_train, train_random_model))\n",
    "print('MSE para el conjunto de test: ', mean_squared_error(y_test, test_random_model))"
   ]
  },
  {
   "cell_type": "code",
   "execution_count": 41,
   "metadata": {},
   "outputs": [
    {
     "name": "stdout",
     "output_type": "stream",
     "text": [
      "MSE para el conjunto de entrenamiento:  3.045977011494253\n",
      "MSE para el conjunto de test:  2.0454545454545454\n"
     ]
    }
   ],
   "source": [
    "# Este es el modelo que tira numeros aleatorios entre 2 y 3 (bien cerca de la media y su desviacion)\n",
    "train_random_model = [random.randint(2,3) for _ in range(len(y_train))]\n",
    "test_random_model = [random.randint(2,3) for _ in range(len(y_test))]\n",
    "\n",
    "print('MSE para el conjunto de entrenamiento: ', mean_squared_error(y_train, train_random_model))\n",
    "print('MSE para el conjunto de test: ', mean_squared_error(y_test, test_random_model))"
   ]
  },
  {
   "cell_type": "code",
   "execution_count": 42,
   "metadata": {},
   "outputs": [
    {
     "name": "stdout",
     "output_type": "stream",
     "text": [
      "MSE para el conjunto de entrenamiento:  2.7612630466376005\n",
      "MSE para el conjunto de test:  1.8609940066539357\n"
     ]
    }
   ],
   "source": [
    "# Este es el modelo que tira Siempre el valor la media\n",
    "train_constant_model = [y_train.mean() for _ in range(len(y_train))]\n",
    "test_constant_model = [y_train.mean() for _ in range(len(y_test))]\n",
    "\n",
    "print('MSE para el conjunto de entrenamiento: ', mean_squared_error(y_train, train_constant_model))\n",
    "print('MSE para el conjunto de test: ', mean_squared_error(y_test, test_constant_model))"
   ]
  },
  {
   "cell_type": "markdown",
   "metadata": {},
   "source": [
    "A continuación mostramos la diferencia entre el modelo entrenado con parámetros y sin parámetros"
   ]
  },
  {
   "cell_type": "code",
   "execution_count": 43,
   "metadata": {},
   "outputs": [
    {
     "name": "stdout",
     "output_type": "stream",
     "text": [
      "MSE para el conjunto de entrenamiento:  0.737701891603402\n",
      "MSE para el conjunto de test:  0.9730774071475249\n",
      "\n",
      "R2 para el conjunto de entrenamiento:  0.7328389656676483\n",
      "R2 para el conjunto de test:  0.4478669811730339\n",
      "\n",
      "\n",
      "Notar que para el conjunto de test da un poco peor que el modelo que devuelve la media de los datos siempre. \n",
      "Esto tiene que ver con la disperción de los datos y que este modelo devuelve numeros reales en vez de naturales.\n",
      "Si ven el grafico de predicted vs observado de test, se nota que hay muchos puntos que está a una distancia menor\n",
      "a 1, por lo que si los discretizaramos, ya no sería error. O dicho de otra forma, al no discrtizarlo se lo penaliza\n",
      "con errores (pequeños, pero errores al fin).\n",
      "\n"
     ]
    }
   ],
   "source": [
    "# Este es el modelo que entrenamos\n",
    "train_y_pred = model_xgb.predict(X_train)\n",
    "test_y_pred = model_xgb.predict(X_test)\n",
    "\n",
    "print('MSE para el conjunto de entrenamiento: ', mean_squared_error(y_train, train_y_pred))\n",
    "print('MSE para el conjunto de test: ', mean_squared_error(y_test, test_y_pred))\n",
    "print()\n",
    "print('R2 para el conjunto de entrenamiento: ', r2_score(y_train, train_y_pred))\n",
    "print('R2 para el conjunto de test: ', r2_score(y_test, test_y_pred))\n",
    "\n",
    "\n",
    "print(\"\"\"\\n\n",
    "Notar que para el conjunto de test da un poco peor que el modelo que devuelve la media de los datos siempre. \n",
    "Esto tiene que ver con la disperción de los datos y que este modelo devuelve numeros reales en vez de naturales.\n",
    "Si ven el grafico de predicted vs observado de test, se nota que hay muchos puntos que está a una distancia menor\n",
    "a 1, por lo que si los discretizaramos, ya no sería error. O dicho de otra forma, al no discrtizarlo se lo penaliza\n",
    "con errores (pequeños, pero errores al fin).\n",
    "\"\"\")"
   ]
  },
  {
   "cell_type": "markdown",
   "metadata": {},
   "source": [
    "# Análisis de distintos modelos "
   ]
  },
  {
   "cell_type": "markdown",
   "metadata": {},
   "source": [
    "### Sin parámetros tuneados (con todas las variables)"
   ]
  },
  {
   "cell_type": "code",
   "execution_count": 44,
   "metadata": {
    "scrolled": false
   },
   "outputs": [
    {
     "name": "stdout",
     "output_type": "stream",
     "text": [
      "MSE para el conjunto de entrenamiento:  1.9864370971418043e-06\n",
      "MSE para el conjunto de test:  0.6414829548624547\n",
      "\n",
      "R2 para el conjunto de entrenamiento:  0.9999992806056274\n",
      "R2 para el conjunto de test:  0.6360167055645627\n"
     ]
    },
    {
     "data": {
      "text/plain": [
       "<matplotlib.axes._subplots.AxesSubplot at 0x7fd4ec0afc50>"
      ]
     },
     "execution_count": 44,
     "metadata": {},
     "output_type": "execute_result"
    },
    {
     "data": {
      "image/png": "[encoded data removed]",
      "text/plain": [
       "<Figure size 432x288 with 1 Axes>"
      ]
     },
     "metadata": {
      "needs_background": "light"
     },
     "output_type": "display_data"
    },
    {
     "data": {
      "image/png": "[encoded data removed]",
      "text/plain": [
       "<Figure size 432x288 with 1 Axes>"
      ]
     },
     "metadata": {
      "needs_background": "light"
     },
     "output_type": "display_data"
    }
   ],
   "source": [
    "model_xgb_sin_params = XGBModel()\n",
    "model_xgb_sin_params.fit(X_train, y_train)\n",
    "\n",
    "# Este es el modelo que entrenamos\n",
    "train_y_pred = model_xgb_sin_params.predict(X_train)\n",
    "test_y_pred = model_xgb_sin_params.predict(X_test)\n",
    "\n",
    "print('MSE para el conjunto de entrenamiento: ', mean_squared_error(y_train, train_y_pred))\n",
    "print('MSE para el conjunto de test: ', mean_squared_error(y_test, test_y_pred))\n",
    "\n",
    "\n",
    "print()\n",
    "print('R2 para el conjunto de entrenamiento: ', r2_score(y_train, train_y_pred))\n",
    "print('R2 para el conjunto de test: ', r2_score(y_test, test_y_pred))\n",
    "\n",
    "pd.DataFrame({'truth': y_train, 'predicted': train_y_pred}).plot(style='.')\n",
    "pd.DataFrame({'truth': y_test, 'predicted': test_y_pred}).plot(style='.')"
   ]
  },
  {
   "cell_type": "markdown",
   "metadata": {},
   "source": [
    "### Con parámetros tuneados (con todas las variables)"
   ]
  },
  {
   "cell_type": "code",
   "execution_count": 45,
   "metadata": {
    "scrolled": false
   },
   "outputs": [
    {
     "name": "stdout",
     "output_type": "stream",
     "text": [
      "MSE para el conjunto de entrenamiento:  0.737701891603402\n",
      "MSE para el conjunto de test:  0.9730774071475249\n",
      "\n",
      "R2 para el conjunto de entrenamiento:  0.7328389656676483\n",
      "R2 para el conjunto de test:  0.4478669811730339\n"
     ]
    },
    {
     "data": {
      "text/plain": [
       "<matplotlib.axes._subplots.AxesSubplot at 0x7fd4e77ed828>"
      ]
     },
     "execution_count": 45,
     "metadata": {},
     "output_type": "execute_result"
    },
    {
     "data": {
      "image/png": "[encoded data removed]",
      "text/plain": [
       "<Figure size 432x288 with 1 Axes>"
      ]
     },
     "metadata": {
      "needs_background": "light"
     },
     "output_type": "display_data"
    },
    {
     "data": {
      "image/png": "[encoded data removed]",
      "text/plain": [
       "<Figure size 432x288 with 1 Axes>"
      ]
     },
     "metadata": {
      "needs_background": "light"
     },
     "output_type": "display_data"
    }
   ],
   "source": [
    "train_y_pred = model_xgb.predict(X_train)\n",
    "test_y_pred = model_xgb.predict(X_test)\n",
    "\n",
    "print('MSE para el conjunto de entrenamiento: ', mean_squared_error(y_train, train_y_pred))\n",
    "print('MSE para el conjunto de test: ', mean_squared_error(y_test, test_y_pred))\n",
    "print()\n",
    "print('R2 para el conjunto de entrenamiento: ', r2_score(y_train, train_y_pred))\n",
    "print('R2 para el conjunto de test: ', r2_score(y_test, test_y_pred))\n",
    "\n",
    "\n",
    "pd.DataFrame({'truth': y_train, 'predicted': train_y_pred}).plot(style='.')\n",
    "pd.DataFrame({'truth': y_test, 'predicted': test_y_pred}).plot(style='.')"
   ]
  },
  {
   "cell_type": "markdown",
   "metadata": {},
   "source": [
    "### Con parámetros y variables más relevantes "
   ]
  },
  {
   "cell_type": "code",
   "execution_count": 47,
   "metadata": {
    "scrolled": false
   },
   "outputs": [
    {
     "name": "stdout",
     "output_type": "stream",
     "text": [
      "MSE para el conjunto de entrenamiento:  0.01823973917672106\n",
      "MSE para el conjunto de test:  0.36856036034020306\n",
      "\n",
      "R2 para el conjunto de entrenamiento:  0.9933944217306889\n",
      "R2 para el conjunto de test:  0.7908754813544452\n"
     ]
    }
   ],
   "source": [
    "params = {'max_depth': 15,\n",
    " 'n_estimators': 15,\n",
    " 'tree_method': 'exact',\n",
    " 'booster': 'gbtree',\n",
    " 'objective': 'reg:squarederror',\n",
    "# 'colsample_bynode': 0.2,\n",
    " 'base_score': 2.632183908045977\n",
    "         }\n",
    "\n",
    "selected_features = ['num_indiv', 'Electricit', 'ri_orcd_n', 'BSI_n', 'Clyp_n', 'MSI_n']\n",
    "\n",
    "\n",
    "model_xgb_sin_params_new_features = XGBModel(**params)\n",
    "model_xgb_sin_params_new_features.fit(X_train[selected_features], y_train)\n",
    "\n",
    "# Este es el modelo que entrenamos\n",
    "train_y_pred = model_xgb_sin_params_new_features.predict(X_train[selected_features])\n",
    "test_y_pred = model_xgb_sin_params_new_features.predict(X_test[selected_features])\n",
    "\n",
    "print('MSE para el conjunto de entrenamiento: ', mean_squared_error(y_train, train_y_pred))\n",
    "print('MSE para el conjunto de test: ', mean_squared_error(y_test, test_y_pred))\n",
    "\n",
    "\n",
    "print()\n",
    "print('R2 para el conjunto de entrenamiento: ', r2_score(y_train, train_y_pred))\n",
    "print('R2 para el conjunto de test: ', r2_score(y_test, test_y_pred))"
   ]
  },
  {
   "cell_type": "code",
   "execution_count": 49,
   "metadata": {},
   "outputs": [
    {
     "data": {
      "text/plain": [
       "<matplotlib.axes._subplots.AxesSubplot at 0x7fd4e76d8550>"
      ]
     },
     "execution_count": 49,
     "metadata": {},
     "output_type": "execute_result"
    },
    {
     "data": {
      "image/png": "[encoded data removed]",
      "text/plain": [
       "<Figure size 864x576 with 1 Axes>"
      ]
     },
     "metadata": {
      "needs_background": "light"
     },
     "output_type": "display_data"
    }
   ],
   "source": [
    "pd.DataFrame({'true': y_train, 'predicted': train_y_pred}).plot(style='o', figsize=(12,8))"
   ]
  },
  {
   "cell_type": "code",
   "execution_count": 50,
   "metadata": {},
   "outputs": [
    {
     "data": {
      "text/plain": [
       "<matplotlib.axes._subplots.AxesSubplot at 0x7fd4e7674390>"
      ]
     },
     "execution_count": 50,
     "metadata": {},
     "output_type": "execute_result"
    },
    {
     "data": {
      "image/png": "[encoded data removed]",
      "text/plain": [
       "<Figure size 864x576 with 1 Axes>"
      ]
     },
     "metadata": {
      "needs_background": "light"
     },
     "output_type": "display_data"
    }
   ],
   "source": [
    "b = pd.DataFrame({'true': y_test, 'predicted': test_y_pred})\n",
    "b.plot(style='o', figsize=(12,8))\n"
   ]
  },
  {
   "cell_type": "markdown",
   "metadata": {},
   "source": [
    "# Miramos los hitogramas de los targets"
   ]
  },
  {
   "cell_type": "code",
   "execution_count": 499,
   "metadata": {},
   "outputs": [
    {
     "name": "stdout",
     "output_type": "stream",
     "text": [
      "Histograma del los targets observados\n"
     ]
    },
    {
     "data": {
      "text/plain": [
       "<matplotlib.axes._subplots.AxesSubplot at 0x7fa19a124ac8>"
      ]
     },
     "execution_count": 499,
     "metadata": {},
     "output_type": "execute_result"
    },
    {
     "data": {
      "image/png": "[encoded data removed]",
      "text/plain": [
       "<Figure size 432x288 with 1 Axes>"
      ]
     },
     "metadata": {
      "needs_background": "light"
     },
     "output_type": "display_data"
    }
   ],
   "source": [
    "print(\"Histograma del los targets observados\")\n",
    "y_train.hist(bins=30)"
   ]
  },
  {
   "cell_type": "code",
   "execution_count": 500,
   "metadata": {
    "scrolled": true
   },
   "outputs": [
    {
     "name": "stdout",
     "output_type": "stream",
     "text": [
      "Histograma del los targets predichos\n"
     ]
    },
    {
     "data": {
      "text/plain": [
       "array([[<matplotlib.axes._subplots.AxesSubplot object at 0x7fa19a067550>]],\n",
       "      dtype=object)"
      ]
     },
     "execution_count": 500,
     "metadata": {},
     "output_type": "execute_result"
    },
    {
     "data": {
      "image/png": "[encoded data removed]",
      "text/plain": [
       "<Figure size 432x288 with 1 Axes>"
      ]
     },
     "metadata": {
      "needs_background": "light"
     },
     "output_type": "display_data"
    }
   ],
   "source": [
    "print(\"Histograma del los targets predichos\")\n",
    "\n",
    "pd.DataFrame(y_pred).hist(bins=20)"
   ]
  },
  {
   "cell_type": "markdown",
   "metadata": {},
   "source": [
    "## Ploteamos los puntos observados y predichos "
   ]
  },
  {
   "cell_type": "code",
   "execution_count": 501,
   "metadata": {},
   "outputs": [
    {
     "name": "stdout",
     "output_type": "stream",
     "text": [
      "Plot de observado vs predicho sobre el CONJUNTO DE ENTRENAMIENTO\n"
     ]
    },
    {
     "data": {
      "text/plain": [
       "<matplotlib.axes._subplots.AxesSubplot at 0x7fa199de3ba8>"
      ]
     },
     "execution_count": 501,
     "metadata": {},
     "output_type": "execute_result"
    },
    {
     "data": {
      "image/png": "[encoded data removed]",
      "text/plain": [
       "<Figure size 864x576 with 1 Axes>"
      ]
     },
     "metadata": {
      "needs_background": "light"
     },
     "output_type": "display_data"
    }
   ],
   "source": [
    "import matplotlib.pyplot as plt\n",
    "from random import randint\n",
    "\n",
    "print(\"Plot de observado vs predicho sobre el CONJUNTO DE ENTRENAMIENTO\")\n",
    "\n",
    "data = list(zip(y_train.tolist(), y_pred))\n",
    "pd.DataFrame(data, columns=['Sum_G_HOOK', 'Predicted']).plot(style='o', figsize=(12,8))\n"
   ]
  },
  {
   "cell_type": "code",
   "execution_count": 543,
   "metadata": {},
   "outputs": [
    {
     "name": "stdout",
     "output_type": "stream",
     "text": [
      "Plot de observado vs predicho sobre el CONJUNTO DE TEST\n"
     ]
    },
    {
     "data": {
      "text/plain": [
       "<matplotlib.axes._subplots.AxesSubplot at 0x7fa199ad4208>"
      ]
     },
     "execution_count": 543,
     "metadata": {},
     "output_type": "execute_result"
    },
    {
     "data": {
      "image/png": "[encoded data removed]",
      "text/plain": [
       "<Figure size 720x432 with 1 Axes>"
      ]
     },
     "metadata": {
      "needs_background": "light"
     },
     "output_type": "display_data"
    }
   ],
   "source": [
    "print(\"Plot de observado vs predicho sobre el CONJUNTO DE TEST\")\n",
    "\n",
    "data_t = list(zip(y_test.tolist(), y_pred_t))\n",
    "pd.DataFrame(data_t, columns=['Sum_G_HOOK', 'Predicted']).plot(style='o', figsize=(10,6))\n"
   ]
  },
  {
   "cell_type": "markdown",
   "metadata": {},
   "source": [
    "## Graficos de los errores "
   ]
  },
  {
   "cell_type": "code",
   "execution_count": 133,
   "metadata": {},
   "outputs": [],
   "source": [
    "errores_train = y_train - y_pred\n",
    "errores_test = y_test - y_pred_t"
   ]
  },
  {
   "cell_type": "code",
   "execution_count": 134,
   "metadata": {},
   "outputs": [
    {
     "name": "stdout",
     "output_type": "stream",
     "text": [
      "Histograma de los errores sobre las predicciones del conjunto de ENTRENAMIENTO\n"
     ]
    },
    {
     "data": {
      "text/plain": [
       "array([[<matplotlib.axes._subplots.AxesSubplot object at 0x7f3c247ec400>]],\n",
       "      dtype=object)"
      ]
     },
     "execution_count": 134,
     "metadata": {},
     "output_type": "execute_result"
    },
    {
     "data": {
      "image/png": "[encoded data removed]",
      "text/plain": [
       "<Figure size 432x288 with 1 Axes>"
      ]
     },
     "metadata": {
      "needs_background": "light"
     },
     "output_type": "display_data"
    }
   ],
   "source": [
    "print(\"Histograma de los errores sobre las predicciones del conjunto de ENTRENAMIENTO\")\n",
    "pd.DataFrame(errores_train).hist(bins=11)"
   ]
  },
  {
   "cell_type": "code",
   "execution_count": 138,
   "metadata": {},
   "outputs": [
    {
     "name": "stdout",
     "output_type": "stream",
     "text": [
      "Histograma de los errores sobre las predicciones del conjunto de TEST\n"
     ]
    },
    {
     "data": {
      "text/plain": [
       "array([[<matplotlib.axes._subplots.AxesSubplot object at 0x7f3c246145c0>]],\n",
       "      dtype=object)"
      ]
     },
     "execution_count": 138,
     "metadata": {},
     "output_type": "execute_result"
    },
    {
     "data": {
      "image/png": "[encoded data removed]",
      "text/plain": [
       "<Figure size 432x288 with 1 Axes>"
      ]
     },
     "metadata": {
      "needs_background": "light"
     },
     "output_type": "display_data"
    }
   ],
   "source": [
    "print(\"Histograma de los errores sobre las predicciones del conjunto de TEST\")\n",
    "\n",
    "pd.DataFrame(errores_test).hist(bins=10)"
   ]
  }
 ],
 "metadata": {
  "celltoolbar": "Edit Metadata",
  "kernelspec": {
   "display_name": "Python 3",
   "language": "python",
   "name": "python3"
  },
  "language_info": {
   "codemirror_mode": {
    "name": "ipython",
    "version": 3
   },
   "file_extension": ".py",
   "mimetype": "text/x-python",
   "name": "python",
   "nbconvert_exporter": "python",
   "pygments_lexer": "ipython3",
   "version": "3.6.9"
  }
 },
 "nbformat": 4,
 "nbformat_minor": 2
}
